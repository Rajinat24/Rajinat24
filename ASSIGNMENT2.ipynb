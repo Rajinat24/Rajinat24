{
 "cells": [
  {
   "cell_type": "code",
   "execution_count": 75,
   "id": "4381b889-fa14-42a0-9fc4-00219aaf35bf",
   "metadata": {},
   "outputs": [
    {
     "name": "stdout",
     "output_type": "stream",
     "text": [
      "[5, 10, 30, 22, 36, 40, 50, 60]\n",
      "5\n",
      "10\n",
      "30\n",
      "22\n",
      "36\n",
      "40\n",
      "50\n",
      "60\n"
     ]
    }
   ],
   "source": [
    "#Q1.create list of 5 random numbers and print the list\n",
    "lst=[10,30,22,40,50]\n",
    "#insert 3 new values to the list and print the updated list\n",
    "lst.insert(0,5)\n",
    "lst.insert(4,36)\n",
    "lst.insert(7,60)\n",
    "print(lst)\n",
    "#try to use for loop to print each element in the list\n",
    "for i in lst:\n",
    "    print(i)"
   ]
  },
  {
   "cell_type": "code",
   "execution_count": 81,
   "id": "54b965d0-595c-4897-9b7e-04754541aed1",
   "metadata": {},
   "outputs": [
    {
     "name": "stdout",
     "output_type": "stream",
     "text": [
      "{'name': 'John', 'age': 25, 'address': 'NewYork', 'phone': '1234567890'}\n"
     ]
    }
   ],
   "source": [
    "#DICTIONARY\n",
    "#Q1.Create a dictionary with keys and Values\n",
    "Emp={\"name\":\"John\",\"age\":25,\"address\":\"NewYork\"}\n",
    "#Q2.add phone no\n",
    "Emp[\"phone\"]='1234567890'\n",
    "print(Emp)"
   ]
  },
  {
   "cell_type": "code",
   "execution_count": 105,
   "id": "1078ee05-2bc8-4faf-9579-2a7b2eb77ed1",
   "metadata": {},
   "outputs": [
    {
     "name": "stdout",
     "output_type": "stream",
     "text": [
      "{1, 2, 3, 4, 5}\n",
      "{1, 2, 3, 4, 5, 6}\n"
     ]
    }
   ],
   "source": [
    "#SET\n",
    "#Q1.CREATE A SET \n",
    "set1={1,2,3,4,5}\n",
    "print(set1)\n",
    "#Q2 ADD VALUE TO THE SET\n",
    "set1.add(6)\n",
    "print (set1)\n",
    "\n",
    "\n"
   ]
  },
  {
   "cell_type": "code",
   "execution_count": 109,
   "id": "3af6b385-665d-46f1-855e-7ed6d41736ff",
   "metadata": {},
   "outputs": [
    {
     "name": "stdout",
     "output_type": "stream",
     "text": [
      "(1, 2, 3, 4)\n",
      "4\n"
     ]
    }
   ],
   "source": [
    "#TUPLE\n",
    "#CREATE A TUPLE\n",
    "T1=(1,2,3,4)\n",
    "print(T1)\n",
    "#PRINT THE LENGTH OF TUPLE\n",
    "print(len(T1))"
   ]
  },
  {
   "cell_type": "code",
   "execution_count": null,
   "id": "a08165a4-b736-48da-b295-ce81c70a075d",
   "metadata": {},
   "outputs": [],
   "source": []
  }
 ],
 "metadata": {
  "kernelspec": {
   "display_name": "Python [conda env:base] *",
   "language": "python",
   "name": "conda-base-py"
  },
  "language_info": {
   "codemirror_mode": {
    "name": "ipython",
    "version": 3
   },
   "file_extension": ".py",
   "mimetype": "text/x-python",
   "name": "python",
   "nbconvert_exporter": "python",
   "pygments_lexer": "ipython3",
   "version": "3.12.7"
  }
 },
 "nbformat": 4,
 "nbformat_minor": 5
}
