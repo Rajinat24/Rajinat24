{
 "cells": [
  {
   "cell_type": "code",
   "execution_count": 22,
   "id": "7a4cb27d-a589-49fb-b216-0d93b078caeb",
   "metadata": {},
   "outputs": [
    {
     "name": "stdout",
     "output_type": "stream",
     "text": [
      "THIS IS ANSWER FOR QUESTION 1\n"
     ]
    }
   ],
   "source": [
    "#QUESTION1\n",
    "with open('C:\\\\Users\\\\mrsra\\\\OneDrive\\\\Documents\\\\example.txt','r') as abc:\n",
    "    content=abc.read()\n",
    "    print(content)\n"
   ]
  },
  {
   "cell_type": "code",
   "execution_count": 30,
   "id": "bb825144-a216-4360-8d30-61dd8d4786fd",
   "metadata": {},
   "outputs": [],
   "source": [
    "#QUESTION NO2\n",
    "#C:\\Users\\mrsra\\OneDrive\\Documents\n",
    "with open('C:\\\\Users\\\\mrsra\\\\OneDrive\\\\Desktop\\\\file_copy.txt','a') as xy:\n",
    "    xy.write('\\n THIS IS ANSWER FOR QUESTION NO2')\n",
    "    #print(content)"
   ]
  },
  {
   "cell_type": "code",
   "execution_count": 80,
   "id": "7496f7cc-1044-40d5-a4c7-0890eab59656",
   "metadata": {},
   "outputs": [
    {
     "name": "stdout",
     "output_type": "stream",
     "text": [
      "29\n"
     ]
    }
   ],
   "source": [
    "#QUESTION NO 3\n",
    "with open('C:\\\\Users\\\\mrsra\\\\OneDrive\\\\Documents\\\\example.txt','r') as abc:\n",
    "    content=abc.read()\n",
    "    word_count=len(content)\n",
    "    print(word_count)"
   ]
  },
  {
   "cell_type": "code",
   "execution_count": 72,
   "id": "49c4a449-e141-42f5-bccb-5aa283b21b4b",
   "metadata": {},
   "outputs": [
    {
     "name": "stdin",
     "output_type": "stream",
     "text": [
      "enter a string: tuv\n"
     ]
    },
    {
     "name": "stdout",
     "output_type": "stream",
     "text": [
      " please enter a valid string\n"
     ]
    }
   ],
   "source": [
    "#QUESTION NO4\n",
    "try:\n",
    "    user_input=input(\"enter a string:\")\n",
    "    number=int(user_input)\n",
    "    for i in number:\n",
    "       if i<0:\n",
    "           print('the negative integer value is:',number)\n",
    "except ValueError:\n",
    "           print(' please enter a valid string')\n",
    "    "
   ]
  },
  {
   "cell_type": "code",
   "execution_count": 7,
   "id": "a5da8309-8c87-4f95-aa00-afa1eccfc43f",
   "metadata": {},
   "outputs": [
    {
     "name": "stdin",
     "output_type": "stream",
     "text": [
      "enter  list of numbers: [1,5,8]\n"
     ]
    },
    {
     "name": "stdout",
     "output_type": "stream",
     "text": [
      "negative numbers are not allowed\n"
     ]
    }
   ],
   "source": [
    "\n",
    "#QUESTION NUMBER 5\n",
    "try:\n",
    "    number=int(input('enter  list of numbers:'))\n",
    "    for num in number:\n",
    "        \n",
    "        if num <= 0:\n",
    "           print('please enter a valid list')\n",
    "    \n",
    "        else:\n",
    "            print('the listed values are:',number)\n",
    "   #except ValueError:\n",
    "   \n",
    "except ValueError:\n",
    "    print(\"negative numbers are not allowed\")\n",
    "    \n",
    "    \n",
    "        # print('error')"
   ]
  }
 ],
 "metadata": {
  "kernelspec": {
   "display_name": "Python [conda env:base] *",
   "language": "python",
   "name": "conda-base-py"
  },
  "language_info": {
   "codemirror_mode": {
    "name": "ipython",
    "version": 3
   },
   "file_extension": ".py",
   "mimetype": "text/x-python",
   "name": "python",
   "nbconvert_exporter": "python",
   "pygments_lexer": "ipython3",
   "version": "3.12.7"
  }
 },
 "nbformat": 4,
 "nbformat_minor": 5
}
