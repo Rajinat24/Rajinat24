{
 "cells": [
  {
   "cell_type": "code",
   "execution_count": 9,
   "id": "d786b2e6-183d-4ec7-a98f-21501f2d5df2",
   "metadata": {},
   "outputs": [
    {
     "name": "stdout",
     "output_type": "stream",
     "text": [
      "60\n"
     ]
    }
   ],
   "source": [
    "#QUESTION:1\n",
    "def sum(arg1,arg2=10,arg3=\"none\"):\n",
    "       \n",
    "     sum=arg1+arg2+arg3\n",
    "     return sum\n",
    "     if arg3 ==\"none\":\n",
    "         print(arg1+arg2)\n",
    "     else:\n",
    "          print(arg1+arg2+arg3)\n",
    "\n",
    "result=sum(10,20,30)\n",
    "\n",
    "print(result)\n",
    "\n",
    "    "
   ]
  },
  {
   "cell_type": "code",
   "execution_count": 169,
   "id": "e3a9f15c-6247-4a5e-aeda-eaa59583e718",
   "metadata": {},
   "outputs": [
    {
     "name": "stdout",
     "output_type": "stream",
     "text": [
      "long_words are: ['apple', 'window', 'hello']\n"
     ]
    }
   ],
   "source": [
    "#QUESTION:2\n",
    "def long_string():\n",
    "       words=[\"cat\",\"apple\",\"window\",\"hello\",\"bat\"]\n",
    "       long_words =[wd for wd in words if len(wd) >=5]\n",
    "            \n",
    "       if long_words :\n",
    "             print(\"long_words are:\",long_words)\n",
    "\n",
    "       else:\n",
    "             print(\"sorry no long_word\")\n",
    "        \n",
    "long_string()\n"
   ]
  },
  {
   "cell_type": "code",
   "execution_count": 10,
   "id": "3e61a320-e665-4527-a3f7-c0a7a42009fb",
   "metadata": {},
   "outputs": [
    {
     "name": "stdout",
     "output_type": "stream",
     "text": [
      "result is: 17\n"
     ]
    }
   ],
   "source": [
    "#QUESTION:3\n",
    "expression=\" 3*5 + 2 \" \n",
    "result=eval(expression)\n",
    "print(\"result is:\",result)"
   ]
  },
  {
   "cell_type": "code",
   "execution_count": 2,
   "id": "96281fd3-fbed-45b4-ac34-7a8dc783a810",
   "metadata": {},
   "outputs": [
    {
     "name": "stdout",
     "output_type": "stream",
     "text": [
      "num<0 is not  prime\n",
      "num<0 is not  prime\n",
      "2 is a prime number\n",
      "3 is a prime number\n",
      "4 is not a prime number\n",
      "5 is a prime number\n",
      "6 is not a prime number\n",
      "7 is a prime number\n",
      "8 is not a prime number\n",
      "9 is not a prime number\n",
      "10 is not a prime number\n"
     ]
    }
   ],
   "source": [
    "#QUESTION:4\n",
    "num_list=[0,1,2,3,4,5,6,7,8,9,10]\n",
    "for i in num_list:\n",
    "    if i>1:\n",
    "        is_prime=True\n",
    "        for j in range(2,i):\n",
    "            if i%j==0:\n",
    "                is_prime=False\n",
    "                break\n",
    "        if is_prime:\n",
    "           print(i,'is a prime number')\n",
    "        else:\n",
    "             print(i ,'is not a prime number')\n",
    "                \n",
    "            \n",
    "    else:\n",
    "           print('num<0 is not  prime')      \n",
    "            \n",
    "            \n"
   ]
  },
  {
   "cell_type": "code",
   "execution_count": 12,
   "id": "ea59afcf-f397-4550-a443-8a2eaff934ce",
   "metadata": {},
   "outputs": [
    {
     "name": "stdout",
     "output_type": "stream",
     "text": [
      "original list ['cat', 'apple', 'window', 'hello', 'bat']\n",
      "Uppercase_list ['CAT', 'APPLE', 'WINDOW', 'HELLO', 'BAT']\n"
     ]
    }
   ],
   "source": [
    "#QUESTION:5\n",
    "words=[\"cat\",\"apple\",\"window\",\"hello\",\"bat\"]\n",
    "uppercase=list(map(str.upper,words))\n",
    "print(\"original list\",words)\n",
    "print(\"Uppercase_list\",uppercase)\n"
   ]
  },
  {
   "cell_type": "code",
   "execution_count": null,
   "id": "6b88e174-befc-4361-bce9-6db691778cfa",
   "metadata": {},
   "outputs": [],
   "source": []
  }
 ],
 "metadata": {
  "kernelspec": {
   "display_name": "Python [conda env:base] *",
   "language": "python",
   "name": "conda-base-py"
  },
  "language_info": {
   "codemirror_mode": {
    "name": "ipython",
    "version": 3
   },
   "file_extension": ".py",
   "mimetype": "text/x-python",
   "name": "python",
   "nbconvert_exporter": "python",
   "pygments_lexer": "ipython3",
   "version": "3.12.7"
  }
 },
 "nbformat": 4,
 "nbformat_minor": 5
}
