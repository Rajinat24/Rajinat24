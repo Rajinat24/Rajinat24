{
 "cells": [
  {
   "cell_type": "code",
   "execution_count": 116,
   "id": "034ce0c7-78ab-4286-affa-b533cced0709",
   "metadata": {},
   "outputs": [
    {
     "name": "stdout",
     "output_type": "stream",
     "text": [
      "1\n",
      "2\n",
      "hi\n",
      "4\n",
      "hello\n",
      "hi\n",
      "7\n",
      "8\n",
      "hi\n",
      "hello\n",
      "11\n",
      "hi\n",
      "13\n",
      "14\n",
      "wow\n"
     ]
    }
   ],
   "source": [
    "#QUESTION9\n",
    "for i in range(1,16):\n",
    "     if ( i %3== 0 and i %5== 0):\n",
    "        print(\"wow\")\n",
    "     elif i %5== 0:\n",
    "         print(\"hello\")\n",
    "     elif i% 3== 0:\n",
    "         print (\"hi\")\n",
    "     else:\n",
    "        print(i)\n",
    "       \n",
    "        "
   ]
  },
  {
   "cell_type": "code",
   "execution_count": 124,
   "id": "debf91f7-5e25-4e09-bf94-f265657329cd",
   "metadata": {},
   "outputs": [
    {
     "name": "stdin",
     "output_type": "stream",
     "text": [
      ": helloo\n"
     ]
    },
    {
     "name": "stdout",
     "output_type": "stream",
     "text": [
      "helloo\n",
      "user_input is: helloo\n"
     ]
    },
    {
     "name": "stdin",
     "output_type": "stream",
     "text": [
      ": done\n"
     ]
    },
    {
     "name": "stdout",
     "output_type": "stream",
     "text": [
      "done\n",
      "Done\n"
     ]
    }
   ],
   "source": [
    "while True:\n",
    "      user_input = input(\":\")\n",
    "      print(user_input)\n",
    "      if user_input.lower() == \"done\":\n",
    "          print(\"Done\")\n",
    "          break\n",
    "      else:\n",
    "           print(\"user_input is:\",user_input)"
   ]
  },
  {
   "cell_type": "code",
   "execution_count": 132,
   "id": "765b744e-43f7-486b-96d9-6965bc9471d4",
   "metadata": {},
   "outputs": [
    {
     "name": "stdout",
     "output_type": "stream",
     "text": [
      "5 4 3 2 1 \n",
      "4 3 2 1 \n",
      "3 2 1 \n",
      "2 1 \n",
      "1 \n"
     ]
    }
   ],
   "source": [
    "#QUESTION NO10\n",
    "for i in range (5,0,-1):\n",
    "    for j in range(i,0,-1):\n",
    "         print(j,end=\" \")\n",
    "    print()"
   ]
  },
  {
   "cell_type": "code",
   "execution_count": 142,
   "id": "63228f90-adf8-49b1-b03d-82b5b2c24c1b",
   "metadata": {},
   "outputs": [
    {
     "data": {
      "text/plain": [
       "[0, 1, 4, 9, 16, 25, 36, 49, 64, 81, 100, 121, 144, 169, 196]"
      ]
     },
     "execution_count": 142,
     "metadata": {},
     "output_type": "execute_result"
    }
   ],
   "source": [
    "#Question7\n",
    "multiples=[x**2 for x in range(15)]\n",
    "multiples"
   ]
  },
  {
   "cell_type": "code",
   "execution_count": 144,
   "id": "85c97183-377a-4f87-9cf5-3eb72c9d87e1",
   "metadata": {},
   "outputs": [
    {
     "name": "stdout",
     "output_type": "stream",
     "text": [
      "reversed num:3\n",
      "reversed num:32\n",
      "reversed num:321\n"
     ]
    }
   ],
   "source": [
    "#Question no 6\n",
    "num=123\n",
    "#num=int(input())\n",
    "reversed_num=0\n",
    "while num!=0:\n",
    "    digit=num % 10\n",
    "    reversed_num=reversed_num * 10 + digit\n",
    "    num//=10\n",
    "    print(\"reversed num:\" +str(reversed_num))"
   ]
  },
  {
   "cell_type": "code",
   "execution_count": 146,
   "id": "50eb66de-0617-4e59-86a7-063c508c8dd7",
   "metadata": {},
   "outputs": [
    {
     "name": "stdout",
     "output_type": "stream",
     "text": [
      "the factorial is 1\n",
      "the factorial is 2\n",
      "the factorial is 6\n",
      "the factorial is 24\n",
      "the factorial is 120\n",
      "the factorial is 720\n",
      "the factorial is 5040\n",
      "the factorial is 40320\n",
      "the factorial is 362880\n",
      "the factorial is 3628800\n"
     ]
    }
   ],
   "source": [
    "#Question5\n",
    "num=10\n",
    "fact=1\n",
    "if num<0:\n",
    "   print(\"factorial does not exist\")\n",
    "else:\n",
    "     for i in range (1,num+1):\n",
    "         fact=fact*i\n",
    "         print(\"the factorial is\",fact) \n"
   ]
  },
  {
   "cell_type": "code",
   "execution_count": 148,
   "id": "421a5240-d774-4e54-ba2f-9d9ca9bfed3c",
   "metadata": {},
   "outputs": [
    {
     "name": "stdout",
     "output_type": "stream",
     "text": [
      "greatest is no3\n"
     ]
    }
   ],
   "source": [
    "#Question 4\n",
    "no1=12\n",
    "no2=20\n",
    "no3=30\n",
    "if (no1>=no2) and(no1>=no3):\n",
    "    print(\"greatest is no1\")\n",
    "elif(no2>=no1)and(no2>=no3):\n",
    "    print(\"greatest is no2\")\n",
    "else:\n",
    "    print(\"greatest is no3\")\n"
   ]
  },
  {
   "cell_type": "code",
   "execution_count": 152,
   "id": "7568f3ce-f720-4aa1-90c8-fb0810fddf93",
   "metadata": {},
   "outputs": [
    {
     "name": "stdin",
     "output_type": "stream",
     "text": [
      "Enter your weight(kg): 70\n",
      "Enter your height(m): 1.5\n"
     ]
    },
    {
     "name": "stdout",
     "output_type": "stream",
     "text": [
      "Obese\n"
     ]
    }
   ],
   "source": [
    "#Question3\n",
    "weight=float(input(\"Enter your weight(kg):\"))\n",
    "height=float(input(\"Enter your height(m):\"))       \n",
    "BMI=weight/height\n",
    "if BMI<=18.5:\n",
    "    print(\"underweight\")\n",
    "elif 18.5< BMI<=25:\n",
    "    print(\"Normal\")\n",
    "elif 25<BMI<=29.9:\n",
    "    print(\"Overweight\")\n",
    "else:\n",
    "    print(\"Obese\")"
   ]
  },
  {
   "cell_type": "code",
   "execution_count": 154,
   "id": "4b68c389-0b32-405f-b539-ad541c88cdac",
   "metadata": {},
   "outputs": [
    {
     "name": "stdout",
     "output_type": "stream",
     "text": [
      "price of your ticket is 600\n"
     ]
    }
   ],
   "source": [
    "#Question2\n",
    "ticket_price=600\n",
    "age=56\n",
    "#age=30\n",
    "if (age<16):\n",
    "        \n",
    "        print(\"price of ticket is\",ticket_price/2)\n",
    "elif (age>=60):\n",
    "       \n",
    "        print(\"price of your ticket  is\", ticket_price/3)\n",
    "else:\n",
    "      print(\"price of your ticket is\",600)\n",
    "    "
   ]
  },
  {
   "cell_type": "code",
   "execution_count": 156,
   "id": "1559935c-32b6-402e-a7a5-edd81fde8f7b",
   "metadata": {},
   "outputs": [
    {
     "name": "stdout",
     "output_type": "stream",
     "text": [
      "{1: 'january', 2: 'february', 3: 'march', 4: 'april', 5: 'may', 6: 'june', 7: 'july', 8: 'august', 9: 'september', 10: 'october', 11: 'november', 12: 'december'}\n",
      "dict_keys([1, 2, 3, 4, 5, 6, 7, 8, 9, 10, 11, 12])\n",
      "january\n",
      "december\n"
     ]
    }
   ],
   "source": [
    "#question1\n",
    "months={1:\"january\",2:\"february\",3:\"march\",4:\"april\",5:\"may\",6:\"june\",7:\"july\",8:\"august\",9:\"september\",10:\"october\",11:\"november\",12:\"december\"}\n",
    "print(months)\n",
    "print(months.keys())\n",
    "print(months[1])\n",
    "print(months[12])"
   ]
  },
  {
   "cell_type": "code",
   "execution_count": null,
   "id": "04e44413-d159-4ab1-892f-79a4f53470a8",
   "metadata": {},
   "outputs": [],
   "source": []
  }
 ],
 "metadata": {
  "kernelspec": {
   "display_name": "Python [conda env:base] *",
   "language": "python",
   "name": "conda-base-py"
  },
  "language_info": {
   "codemirror_mode": {
    "name": "ipython",
    "version": 3
   },
   "file_extension": ".py",
   "mimetype": "text/x-python",
   "name": "python",
   "nbconvert_exporter": "python",
   "pygments_lexer": "ipython3",
   "version": "3.12.7"
  }
 },
 "nbformat": 4,
 "nbformat_minor": 5
}
